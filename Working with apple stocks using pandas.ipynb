{
 "cells": [
  {
   "cell_type": "markdown",
   "metadata": {},
   "source": [
    "Working with apple stocks using pandas / drawing graphs"
   ]
  },
  {
   "cell_type": "code",
   "execution_count": 1,
   "metadata": {},
   "outputs": [],
   "source": [
    "import pandas as pd"
   ]
  },
  {
   "cell_type": "code",
   "execution_count": 20,
   "metadata": {},
   "outputs": [
    {
     "data": {
      "text/html": [
       "<div>\n",
       "<style scoped>\n",
       "    .dataframe tbody tr th:only-of-type {\n",
       "        vertical-align: middle;\n",
       "    }\n",
       "\n",
       "    .dataframe tbody tr th {\n",
       "        vertical-align: top;\n",
       "    }\n",
       "\n",
       "    .dataframe thead th {\n",
       "        text-align: right;\n",
       "    }\n",
       "</style>\n",
       "<table border=\"1\" class=\"dataframe\">\n",
       "  <thead>\n",
       "    <tr style=\"text-align: right;\">\n",
       "      <th></th>\n",
       "      <th>Open</th>\n",
       "      <th>High</th>\n",
       "      <th>Low</th>\n",
       "      <th>Close</th>\n",
       "      <th>Adj Close</th>\n",
       "      <th>Volume</th>\n",
       "    </tr>\n",
       "    <tr>\n",
       "      <th>Date</th>\n",
       "      <th></th>\n",
       "      <th></th>\n",
       "      <th></th>\n",
       "      <th></th>\n",
       "      <th></th>\n",
       "      <th></th>\n",
       "    </tr>\n",
       "  </thead>\n",
       "  <tbody>\n",
       "    <tr>\n",
       "      <th>2019-05-28</th>\n",
       "      <td>178.919998</td>\n",
       "      <td>180.589996</td>\n",
       "      <td>177.910004</td>\n",
       "      <td>178.229996</td>\n",
       "      <td>176.128006</td>\n",
       "      <td>27948200</td>\n",
       "    </tr>\n",
       "    <tr>\n",
       "      <th>2019-05-29</th>\n",
       "      <td>176.419998</td>\n",
       "      <td>179.350006</td>\n",
       "      <td>176.000000</td>\n",
       "      <td>177.380005</td>\n",
       "      <td>175.288025</td>\n",
       "      <td>28481200</td>\n",
       "    </tr>\n",
       "    <tr>\n",
       "      <th>2019-05-30</th>\n",
       "      <td>177.949997</td>\n",
       "      <td>179.229996</td>\n",
       "      <td>176.669998</td>\n",
       "      <td>178.300003</td>\n",
       "      <td>176.197189</td>\n",
       "      <td>21218400</td>\n",
       "    </tr>\n",
       "    <tr>\n",
       "      <th>2019-05-31</th>\n",
       "      <td>176.229996</td>\n",
       "      <td>177.990005</td>\n",
       "      <td>174.990005</td>\n",
       "      <td>175.070007</td>\n",
       "      <td>173.005280</td>\n",
       "      <td>27043600</td>\n",
       "    </tr>\n",
       "    <tr>\n",
       "      <th>2019-06-03</th>\n",
       "      <td>175.600006</td>\n",
       "      <td>177.919998</td>\n",
       "      <td>170.270004</td>\n",
       "      <td>173.300003</td>\n",
       "      <td>171.256134</td>\n",
       "      <td>40396100</td>\n",
       "    </tr>\n",
       "  </tbody>\n",
       "</table>\n",
       "</div>"
      ],
      "text/plain": [
       "                  Open        High         Low       Close   Adj Close  \\\n",
       "Date                                                                     \n",
       "2019-05-28  178.919998  180.589996  177.910004  178.229996  176.128006   \n",
       "2019-05-29  176.419998  179.350006  176.000000  177.380005  175.288025   \n",
       "2019-05-30  177.949997  179.229996  176.669998  178.300003  176.197189   \n",
       "2019-05-31  176.229996  177.990005  174.990005  175.070007  173.005280   \n",
       "2019-06-03  175.600006  177.919998  170.270004  173.300003  171.256134   \n",
       "\n",
       "              Volume  \n",
       "Date                  \n",
       "2019-05-28  27948200  \n",
       "2019-05-29  28481200  \n",
       "2019-05-30  21218400  \n",
       "2019-05-31  27043600  \n",
       "2019-06-03  40396100  "
      ]
     },
     "execution_count": 20,
     "metadata": {},
     "output_type": "execute_result"
    }
   ],
   "source": [
    "apple_data = pd.read_csv('AAPL.csv',index_col = 'Date', parse_dates = True)\n",
    "apple_data.head()"
   ]
  },
  {
   "cell_type": "code",
   "execution_count": 19,
   "metadata": {},
   "outputs": [],
   "source": [
    "#Making the date column as a real date\n",
    "#apple_data['Date'] = pd.to_datetime(apple_data['Date'], format = '%Y-%m-%d')"
   ]
  },
  {
   "cell_type": "code",
   "execution_count": 18,
   "metadata": {},
   "outputs": [
    {
     "data": {
      "text/plain": [
       "0      2019-05-28\n",
       "1      2019-05-29\n",
       "2      2019-05-30\n",
       "3      2019-05-31\n",
       "4      2019-06-03\n",
       "          ...    \n",
       "246    2020-05-18\n",
       "247    2020-05-19\n",
       "248    2020-05-20\n",
       "249    2020-05-21\n",
       "250    2020-05-22\n",
       "Name: Date, Length: 251, dtype: object"
      ]
     },
     "execution_count": 18,
     "metadata": {},
     "output_type": "execute_result"
    }
   ],
   "source": [
    "apple_data['Date']"
   ]
  },
  {
   "cell_type": "markdown",
   "metadata": {},
   "source": [
    "Taking specific column information "
   ]
  },
  {
   "cell_type": "code",
   "execution_count": 21,
   "metadata": {},
   "outputs": [
    {
     "data": {
      "text/plain": [
       "Date\n",
       "2019-05-28    178.229996\n",
       "2019-05-29    177.380005\n",
       "2019-05-30    178.300003\n",
       "2019-05-31    175.070007\n",
       "2019-06-03    173.300003\n",
       "                 ...    \n",
       "2020-05-18    314.959991\n",
       "2020-05-19    313.140015\n",
       "2020-05-20    319.230011\n",
       "2020-05-21    316.850006\n",
       "2020-05-22    318.890015\n",
       "Name: Close, Length: 251, dtype: float64"
      ]
     },
     "execution_count": 21,
     "metadata": {},
     "output_type": "execute_result"
    }
   ],
   "source": [
    "close_np = apple_data['Close'].values\n",
    "close_series = apple_data['Close']\n",
    "close_series"
   ]
  },
  {
   "cell_type": "markdown",
   "metadata": {},
   "source": [
    "Plotting graphs / saving the photo of the graph"
   ]
  },
  {
   "cell_type": "code",
   "execution_count": 8,
   "metadata": {},
   "outputs": [],
   "source": [
    "import matplotlib.pyplot as plt"
   ]
  },
  {
   "cell_type": "code",
   "execution_count": 23,
   "metadata": {},
   "outputs": [
    {
     "data": {
      "image/png": "[encoded data removed]",
      "text/plain": [
       "<Figure size 432x288 with 1 Axes>"
      ]
     },
     "metadata": {
      "needs_background": "light"
     },
     "output_type": "display_data"
    }
   ],
   "source": [
    "close_series.plot(color = 'b',style = '.',legend = True)\n",
    "apple_data['High'].plot(color = 'r', style = '.-', legend = True)\n",
    "plt.savefig('apple.jpg')\n",
    "plt.show()\n"
   ]
  },
  {
   "cell_type": "code",
   "execution_count": 23,
   "metadata": {},
   "outputs": [
    {
     "data": {
      "image/png": "[encoded data removed]",
      "text/plain": [
       "<Figure size 432x288 with 1 Axes>"
      ]
     },
     "metadata": {
      "needs_background": "light"
     },
     "output_type": "display_data"
    }
   ],
   "source": []
  },
  {
   "cell_type": "markdown",
   "metadata": {},
   "source": [
    "Homework"
   ]
  },
  {
   "cell_type": "markdown",
   "metadata": {},
   "source": [
    "Working with Netflix data"
   ]
  },
  {
   "cell_type": "code",
   "execution_count": 3,
   "metadata": {},
   "outputs": [
    {
     "data": {
      "text/html": [
       "<div>\n",
       "<style scoped>\n",
       "    .dataframe tbody tr th:only-of-type {\n",
       "        vertical-align: middle;\n",
       "    }\n",
       "\n",
       "    .dataframe tbody tr th {\n",
       "        vertical-align: top;\n",
       "    }\n",
       "\n",
       "    .dataframe thead th {\n",
       "        text-align: right;\n",
       "    }\n",
       "</style>\n",
       "<table border=\"1\" class=\"dataframe\">\n",
       "  <thead>\n",
       "    <tr style=\"text-align: right;\">\n",
       "      <th></th>\n",
       "      <th>Date</th>\n",
       "      <th>Open</th>\n",
       "      <th>High</th>\n",
       "      <th>Low</th>\n",
       "      <th>Close</th>\n",
       "      <th>Adj Close</th>\n",
       "      <th>Volume</th>\n",
       "    </tr>\n",
       "  </thead>\n",
       "  <tbody>\n",
       "    <tr>\n",
       "      <th>0</th>\n",
       "      <td>2019-05-28</td>\n",
       "      <td>354.390015</td>\n",
       "      <td>361.200012</td>\n",
       "      <td>353.649994</td>\n",
       "      <td>355.059998</td>\n",
       "      <td>355.059998</td>\n",
       "      <td>4717100</td>\n",
       "    </tr>\n",
       "    <tr>\n",
       "      <th>1</th>\n",
       "      <td>2019-05-29</td>\n",
       "      <td>353.600006</td>\n",
       "      <td>353.850006</td>\n",
       "      <td>345.899994</td>\n",
       "      <td>349.190002</td>\n",
       "      <td>349.190002</td>\n",
       "      <td>5658900</td>\n",
       "    </tr>\n",
       "    <tr>\n",
       "      <th>2</th>\n",
       "      <td>2019-05-30</td>\n",
       "      <td>350.549988</td>\n",
       "      <td>354.209991</td>\n",
       "      <td>348.299988</td>\n",
       "      <td>351.850006</td>\n",
       "      <td>351.850006</td>\n",
       "      <td>4008000</td>\n",
       "    </tr>\n",
       "    <tr>\n",
       "      <th>3</th>\n",
       "      <td>2019-05-31</td>\n",
       "      <td>347.220001</td>\n",
       "      <td>349.339996</td>\n",
       "      <td>342.920013</td>\n",
       "      <td>343.279999</td>\n",
       "      <td>343.279999</td>\n",
       "      <td>5023400</td>\n",
       "    </tr>\n",
       "    <tr>\n",
       "      <th>4</th>\n",
       "      <td>2019-06-03</td>\n",
       "      <td>343.559998</td>\n",
       "      <td>347.660004</td>\n",
       "      <td>332.649994</td>\n",
       "      <td>336.630005</td>\n",
       "      <td>336.630005</td>\n",
       "      <td>7849600</td>\n",
       "    </tr>\n",
       "  </tbody>\n",
       "</table>\n",
       "</div>"
      ],
      "text/plain": [
       "         Date        Open        High         Low       Close   Adj Close  \\\n",
       "0  2019-05-28  354.390015  361.200012  353.649994  355.059998  355.059998   \n",
       "1  2019-05-29  353.600006  353.850006  345.899994  349.190002  349.190002   \n",
       "2  2019-05-30  350.549988  354.209991  348.299988  351.850006  351.850006   \n",
       "3  2019-05-31  347.220001  349.339996  342.920013  343.279999  343.279999   \n",
       "4  2019-06-03  343.559998  347.660004  332.649994  336.630005  336.630005   \n",
       "\n",
       "    Volume  \n",
       "0  4717100  \n",
       "1  5658900  \n",
       "2  4008000  \n",
       "3  5023400  \n",
       "4  7849600  "
      ]
     },
     "execution_count": 3,
     "metadata": {},
     "output_type": "execute_result"
    }
   ],
   "source": [
    "ntflx_data = pd.read_csv('NFLX.csv')\n",
    "ntflx_data.head()"
   ]
  },
  {
   "cell_type": "code",
   "execution_count": 5,
   "metadata": {},
   "outputs": [
    {
     "data": {
      "text/plain": [
       "array([ 4717100,  5658900,  4008000,  5023400,  7849600,  7891600,\n",
       "        5020100,  3710000,  4777300,  7810300,  5396700,  4584700,\n",
       "        6209300,  5019000,  5358200,  5428500,  5667200,  5899500,\n",
       "        7448400,  4830200,  5750400,  3669700,  4138600,  4592700,\n",
       "        4992600,  3625000,  3799000,  3732200,  3113400,  6932800,\n",
       "        5878800,  4336300,  6636900,  7944700,  5863200, 13639500,\n",
       "       31305900, 16302500, 17718000,  9171100, 11961800, 10798500,\n",
       "       10847500,  5782800,  6029300,  6259500,  6563200,  6280300,\n",
       "        8692500,  6179100,  9322400,  5905900,  5349100,  6531700,\n",
       "        5289400,  7355800,  9629200,  6905800,  4942200,  7349900,\n",
       "        5685400,  4974200,  6324900,  4695700,  6309400,  3955700,\n",
       "        4388500,  4446400,  3682800,  4652500,  8966800,  5166600,\n",
       "        8232700, 12320200,  7405900,  5010900,  6583100,  5307400,\n",
       "        4777100,  7811100,  8461300, 23832800, 13478600, 16338200,\n",
       "       11643800,  7684000,  7328300,  6727200,  8650300,  7659100,\n",
       "        8951000,  9890400,  6525600,  6276400,  6794400, 10809100,\n",
       "        8786100,  5513200,  7685600, 16175900, 38258900, 23429900,\n",
       "       12599200, 11802400,  7133500,  4827400,  4747800,  6248400,\n",
       "        4356200,  9345600,  5090000,  5594300,  5566200,  4062400,\n",
       "        3438300,  5928500,  4509000,  3944300,  5772800,  9158900,\n",
       "        6529000,  6333800,  8616600,  5918000,  5111800,  7488400,\n",
       "        5970100,  7873900,  5321000,  4096900,  2411700,  6218800,\n",
       "        4992800,  3512100,  4615500,  4457800,  5748400, 10476100,\n",
       "        5589800,  4766600,  3879700,  4658900, 10427100, 11207400,\n",
       "        9822300,  9914900,  5765300,  2019300,  3589900,  5036100,\n",
       "        4311500,  3713300,  4485800,  3806900,  5663100,  4703200,\n",
       "        7104500,  4709300,  4718300,  6290000,  7199400,  5158000,\n",
       "        5016000,  6066500, 14350300, 21730000, 18200300, 17939700,\n",
       "        7709500,  6821600,  7643500,  5328100,  5230000,  6674900,\n",
       "        7161500,  6437000,  3920400,  4385200,  5294100,  4772900,\n",
       "        4624800,  4485400,  3736300,  5173900,  4896400,  4079400,\n",
       "        3930100,  6936400,  6481200,  8934100, 10967700, 11178600,\n",
       "        6997900,  8364600,  5487300,  8747000,  8147200,  7405500,\n",
       "        7604400,  6036000, 12071600,  9458200, 10559900, 10013900,\n",
       "       12593600, 10616000, 10853800, 13449400, 11638700,  8767200,\n",
       "        7229600,  7948800,  8622000,  9366500,  6672500,  4592500,\n",
       "        4860800,  8183900,  7046400,  6908900,  7711300, 11692900,\n",
       "       11581000, 13561200, 16128700, 12616300, 12655800, 23177600,\n",
       "       21123800, 13952300,  8670400,  6277500, 10101200,  9693100,\n",
       "        7954000,  8299900,  7799100,  6286300,  6660700,  5641900,\n",
       "        5054300,  5480300,  4598200,  7014600,  9007500,  7244000,\n",
       "        7780300,  4810500,  5607300,  9117300,  5422300,  7862500],\n",
       "      dtype=int64)"
      ]
     },
     "execution_count": 5,
     "metadata": {},
     "output_type": "execute_result"
    }
   ],
   "source": [
    "volume_np = ntflx_data['Volume'].values\n",
    "volume_np"
   ]
  },
  {
   "cell_type": "code",
   "execution_count": 7,
   "metadata": {},
   "outputs": [
    {
     "data": {
      "text/plain": [
       "0      4717100\n",
       "1      5658900\n",
       "2      4008000\n",
       "3      5023400\n",
       "4      7849600\n",
       "        ...   \n",
       "247    4810500\n",
       "248    5607300\n",
       "249    9117300\n",
       "250    5422300\n",
       "251    7862500\n",
       "Name: Volume, Length: 252, dtype: int64"
      ]
     },
     "execution_count": 7,
     "metadata": {},
     "output_type": "execute_result"
    }
   ],
   "source": [
    "volume_series = ntflx_data['Volume']\n",
    "volume_series"
   ]
  },
  {
   "cell_type": "code",
   "execution_count": 33,
   "metadata": {},
   "outputs": [
    {
     "data": {
      "image/png": "[encoded data removed]",
      "text/plain": [
       "<Figure size 432x288 with 1 Axes>"
      ]
     },
     "metadata": {
      "needs_background": "light"
     },
     "output_type": "display_data"
    }
   ],
   "source": [
    "volume_series.plot(color = 'g',style = '-', legend = True)\n",
    "ntflx_data['Close'].plot(color = 'b', style = '*-', legend = True)\n",
    "plt.show()"
   ]
  },
  {
   "cell_type": "code",
   "execution_count": 34,
   "metadata": {},
   "outputs": [
    {
     "data": {
      "image/png": "[encoded data removed]",
      "text/plain": [
       "<Figure size 432x288 with 1 Axes>"
      ]
     },
     "metadata": {
      "needs_background": "light"
     },
     "output_type": "display_data"
    }
   ],
   "source": [
    "ntflx_data['Close'].plot(color = 'b', style = '*-', legend = True)\n",
    "plt.show()"
   ]
  },
  {
   "cell_type": "code",
   "execution_count": 40,
   "metadata": {},
   "outputs": [
    {
     "data": {
      "text/plain": [
       "<matplotlib.axes._subplots.AxesSubplot at 0x16e397fef88>"
      ]
     },
     "execution_count": 40,
     "metadata": {},
     "output_type": "execute_result"
    },
    {
     "data": {
      "image/png": "[encoded data removed]",
      "text/plain": [
       "<Figure size 432x288 with 1 Axes>"
      ]
     },
     "metadata": {
      "needs_background": "light"
     },
     "output_type": "display_data"
    }
   ],
   "source": [
    "volume_series.hist(color = 'y', bins = 6)"
   ]
  },
  {
   "cell_type": "code",
   "execution_count": null,
   "metadata": {},
   "outputs": [],
   "source": []
  }
 ],
 "metadata": {
  "kernelspec": {
   "display_name": "Python 3",
   "language": "python",
   "name": "python3"
  },
  "language_info": {
   "codemirror_mode": {
    "name": "ipython",
    "version": 3
   },
   "file_extension": ".py",
   "mimetype": "text/x-python",
   "name": "python",
   "nbconvert_exporter": "python",
   "pygments_lexer": "ipython3",
   "version": "3.7.6"
  }
 },
 "nbformat": 4,
 "nbformat_minor": 4
}
